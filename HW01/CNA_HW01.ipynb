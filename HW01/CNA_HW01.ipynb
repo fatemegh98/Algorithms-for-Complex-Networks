{
  "nbformat": 4,
  "nbformat_minor": 0,
  "metadata": {
    "colab": {
      "name": "Untitled14.ipynb",
      "provenance": [],
      "collapsed_sections": []
    },
    "kernelspec": {
      "name": "python3",
      "display_name": "Python 3"
    },
    "language_info": {
      "name": "python"
    }
  },
  "cells": [
    {
      "cell_type": "markdown",
      "metadata": {
        "id": "f587fmjItY41"
      },
      "source": [
        "# Import Libraries"
      ]
    },
    {
      "cell_type": "code",
      "metadata": {
        "id": "-1ulRJFUhkBP"
      },
      "source": [
        "import networkx as nx\n",
        "import numpy as np\n",
        "import matplotlib.pyplot as plt\n",
        "import scipy.io\n",
        "import collections\n",
        "from collections import Counter\n",
        "from numpy.linalg import matrix_power \n",
        "import itertools\n",
        "import random\n",
        "import sys\n",
        "%matplotlib inline\n",
        "from random import uniform, seed\n",
        "import time"
      ],
      "execution_count": 8,
      "outputs": []
    },
    {
      "cell_type": "markdown",
      "metadata": {
        "id": "4KM4KRDfaa6b"
      },
      "source": [
        "# Question 4"
      ]
    },
    {
      "cell_type": "code",
      "metadata": {
        "id": "aFB--offfWUf"
      },
      "source": [
        "fin = open(\"friendship-data.txt\", \"rt\")\n",
        "fout = open(\"out.txt\", \"wt\")\n",
        "for line in fin:\n",
        "  fout.write(line.replace('\\t', ','))\n",
        "fin.close()\n",
        "fout.close()"
      ],
      "execution_count": null,
      "outputs": []
    },
    {
      "cell_type": "code",
      "metadata": {
        "colab": {
          "base_uri": "https://localhost:8080/"
        },
        "id": "ejK6gnfaiTbJ",
        "outputId": "d049c381-bc43-4183-cd31-0d9aa71e01cf"
      },
      "source": [
        "G = nx.read_adjlist('out.txt', delimiter=',',create_using=nx.DiGraph(), )\n",
        "print(nx.info(G))\n"
      ],
      "execution_count": null,
      "outputs": [
        {
          "output_type": "stream",
          "name": "stdout",
          "text": [
            "DiGraph with 49996 nodes and 662467 edges\n"
          ]
        }
      ]
    },
    {
      "cell_type": "code",
      "metadata": {
        "colab": {
          "base_uri": "https://localhost:8080/"
        },
        "id": "MzEnkYXaDKJ7",
        "outputId": "bde94cc0-7c2f-47c2-bb0a-297696b5543f"
      },
      "source": [
        "degrees = G.degree()\n",
        "sum_of_edges = sum(dict(degrees).values())\n",
        "number_of_nodes = G.number_of_nodes()\n",
        "avg_degree = sum_of_edges / number_of_nodes\n",
        "avg_degree/2"
      ],
      "execution_count": null,
      "outputs": [
        {
          "output_type": "execute_result",
          "data": {
            "text/plain": [
              "13.25040003200256"
            ]
          },
          "metadata": {},
          "execution_count": 21
        }
      ]
    },
    {
      "cell_type": "code",
      "metadata": {
        "colab": {
          "base_uri": "https://localhost:8080/",
          "height": 264
        },
        "id": "LE7xhxVGPQhU",
        "outputId": "d1f3c6d2-e01d-47d9-9582-3e905fb45998"
      },
      "source": [
        "def plot_degree_dist(G):\n",
        "    degrees = [G.degree(n) for n in G.nodes()]\n",
        "    degrees = list(filter(lambda x: x < 200, degrees))\n",
        "    plt.hist(degrees, bins =20)\n",
        "    plt.show()\n",
        "\n",
        "plot_degree_dist(G)"
      ],
      "execution_count": null,
      "outputs": [
        {
          "output_type": "display_data",
          "data": {
            "image/png": "[encoded data removed]",
            "text/plain": [
              "<Figure size 432x288 with 1 Axes>"
            ]
          },
          "metadata": {
            "needs_background": "light"
          }
        }
      ]
    },
    {
      "cell_type": "code",
      "metadata": {
        "id": "2E7nhlSAQ152"
      },
      "source": [
        "my_map = nx.pagerank_alg.pagerank(G)\n",
        "inv_map = {v: k for k, v in my_map.items()}"
      ],
      "execution_count": null,
      "outputs": []
    },
    {
      "cell_type": "code",
      "metadata": {
        "id": "Z_0Rnx4uRJrP"
      },
      "source": [
        "keys1 = list(inv_map.keys())\n",
        "keys1.sort()"
      ],
      "execution_count": null,
      "outputs": []
    },
    {
      "cell_type": "code",
      "metadata": {
        "colab": {
          "base_uri": "https://localhost:8080/"
        },
        "id": "A3wtJ9cWRbLb",
        "outputId": "4b9853de-6cd8-4629-e727-ab706bfe3398"
      },
      "source": [
        "keys1[:10]"
      ],
      "execution_count": null,
      "outputs": [
        {
          "output_type": "execute_result",
          "data": {
            "text/plain": [
              "[3.038531698427423e-06,\n",
              " 3.3057977550637216e-06,\n",
              " 3.634700345966363e-06,\n",
              " 3.649460944271241e-06,\n",
              " 3.651201691007553e-06,\n",
              " 3.652187192673742e-06,\n",
              " 3.654876336247088e-06,\n",
              " 3.657340770562175e-06,\n",
              " 3.66102230726546e-06,\n",
              " 3.6625583655373513e-06]"
            ]
          },
          "metadata": {},
          "execution_count": 24
        }
      ]
    },
    {
      "cell_type": "code",
      "metadata": {
        "colab": {
          "base_uri": "https://localhost:8080/"
        },
        "id": "oSlWsysISc66",
        "outputId": "779cee41-639b-4e8e-80b5-1051d0167460"
      },
      "source": [
        "[inv_map[x] for x in keys1[:10]]"
      ],
      "execution_count": null,
      "outputs": [
        {
          "output_type": "execute_result",
          "data": {
            "text/plain": [
              "['49999',\n",
              " '31653',\n",
              " '34655',\n",
              " '34788',\n",
              " '34186',\n",
              " '34180',\n",
              " '34193',\n",
              " '34562',\n",
              " '13163',\n",
              " '34804']"
            ]
          },
          "metadata": {},
          "execution_count": 25
        }
      ]
    },
    {
      "cell_type": "markdown",
      "metadata": {
        "id": "ZMtN3t5iamAS"
      },
      "source": [
        "# Question 1"
      ]
    },
    {
      "cell_type": "code",
      "metadata": {
        "id": "TOBAb1MXSlYc"
      },
      "source": [
        "mat = scipy.io.loadmat('facebook101_princton_weighted.mat')\n"
      ],
      "execution_count": null,
      "outputs": []
    },
    {
      "cell_type": "code",
      "metadata": {
        "id": "hx1RgJL1Tazx"
      },
      "source": [
        "G = nx.from_scipy_sparse_matrix(mat['A'])"
      ],
      "execution_count": null,
      "outputs": []
    },
    {
      "cell_type": "code",
      "metadata": {
        "colab": {
          "base_uri": "https://localhost:8080/",
          "height": 298
        },
        "id": "y-60jsMrhhM2",
        "outputId": "41c1fef3-e626-4e4c-dceb-2b8eb59b4fc3"
      },
      "source": [
        "degs = {}\n",
        "for n in G.nodes():\n",
        "  deg = G.degree(n) \n",
        "  if deg not in degs:\n",
        "    degs[deg] = 0 \n",
        "  degs[deg] += 1\n",
        "items = sorted(degs.items())\n",
        "\n",
        "fig = plt.figure()\n",
        "ax = fig.add_subplot(111)\n",
        "ax.plot([k for (k,v) in items], [v for (k,v) in items]) \n",
        "ax.set_xlabel(\"log degree\")\n",
        "ax.set_ylabel(\"log frequency\")\n",
        "ax.set_xscale('log') \n",
        "ax.set_yscale('log')\n",
        "plt.title(\"Degree Distribution\")\n",
        "plt.show()"
      ],
      "execution_count": null,
      "outputs": [
        {
          "output_type": "display_data",
          "data": {
            "image/png": "[encoded data removed]",
            "text/plain": [
              "<Figure size 432x288 with 1 Axes>"
            ]
          },
          "metadata": {
            "needs_background": "light"
          }
        }
      ]
    },
    {
      "cell_type": "code",
      "metadata": {
        "colab": {
          "base_uri": "https://localhost:8080/"
        },
        "id": "V9kuxud4HeTr",
        "outputId": "f0ee04a6-7c7a-44fc-964d-75c47aaa808f"
      },
      "source": [
        "adj_mat = nx.to_numpy_matrix(G, weight=None)\n",
        "res = matrix_power(adj_mat, 7) \n",
        "paths_with_sevlen = np.sum(res)/2\n",
        "paths_with_sevlen"
      ],
      "execution_count": null,
      "outputs": [
        {
          "output_type": "execute_result",
          "data": {
            "text/plain": [
              "6.128511995623708e+18"
            ]
          },
          "metadata": {},
          "execution_count": 37
        }
      ]
    },
    {
      "cell_type": "code",
      "metadata": {
        "id": "yLqEltcSxbVe"
      },
      "source": [
        "def graph_diameter(G):\n",
        "    diams = []\n",
        "    components  = (G.subgraph(c).copy() for c in nx.connected_components(G))\n",
        "    for c in components:\n",
        "        diams.append(nx.diameter(c))\n",
        "\n",
        "    return diams "
      ],
      "execution_count": null,
      "outputs": []
    },
    {
      "cell_type": "code",
      "metadata": {
        "colab": {
          "base_uri": "https://localhost:8080/"
        },
        "id": "MOpJvZ_gyqhq",
        "outputId": "99df7795-81c9-494a-a279-e14fad0b6d7a"
      },
      "source": [
        "print(graph_diameter(G))"
      ],
      "execution_count": null,
      "outputs": [
        {
          "output_type": "stream",
          "name": "stdout",
          "text": [
            "[9, 1, 2, 1, 1, 2, 1, 1, 1, 1]\n"
          ]
        }
      ]
    },
    {
      "cell_type": "code",
      "metadata": {
        "id": "N72ndRwJbWdy",
        "colab": {
          "base_uri": "https://localhost:8080/"
        },
        "outputId": "0f66ba1b-c497-441d-ac09-9f9765b202d6"
      },
      "source": [
        "adj_mat = nx.to_numpy_matrix(G, weight=None)\n",
        "a3 = matrix_power(adj_mat, 3) \n",
        "\n",
        "K3 = np.trace(a3)/6\n",
        "\n",
        "a2 =  matrix_power(adj_mat, 2)\n",
        "tmp = np.sum(a2)\n",
        "W = (tmp - 6 * K3) / 2\n",
        "\n",
        "cc = 6 * K3 / W\n",
        "cc"
      ],
      "execution_count": null,
      "outputs": [
        {
          "output_type": "execute_result",
          "data": {
            "text/plain": [
              "0.389058453724767"
            ]
          },
          "metadata": {},
          "execution_count": 17
        }
      ]
    },
    {
      "cell_type": "code",
      "metadata": {
        "colab": {
          "base_uri": "https://localhost:8080/"
        },
        "id": "7fahnhriCZEW",
        "outputId": "b1cc8299-aa94-448e-e87d-07ea8acc4b20"
      },
      "source": [
        "components  = (G.subgraph(c).copy() for c in nx.connected_components(G))\n",
        "cc_lens = []\n",
        "for c in components:\n",
        "  cc_lens.append(c.number_of_nodes())\n",
        "print(len(cc_lens))\n",
        "cc_lens.sort(reverse=True)\n",
        "print(cc_lens [:5])\n"
      ],
      "execution_count": null,
      "outputs": [
        {
          "output_type": "stream",
          "name": "stdout",
          "text": [
            "10\n",
            "[6575, 3, 3, 3, 2]\n"
          ]
        }
      ]
    },
    {
      "cell_type": "markdown",
      "metadata": {
        "id": "-R4W4kSRwWoI"
      },
      "source": [
        "# Question 2"
      ]
    },
    {
      "cell_type": "code",
      "metadata": {
        "id": "Gx5BKepIhUou"
      },
      "source": [
        "Gnp = nx.generators.random_graphs.fast_gnp_random_graph(6596, 0.02)"
      ],
      "execution_count": null,
      "outputs": []
    },
    {
      "cell_type": "code",
      "metadata": {
        "colab": {
          "base_uri": "https://localhost:8080/",
          "height": 298
        },
        "id": "Tyma8dYepwuf",
        "outputId": "28eaa013-1309-4787-9846-4d48e71c7da2"
      },
      "source": [
        "degs = {}\n",
        "for n in Gnp.nodes():\n",
        "  deg = Gnp.degree(n) \n",
        "  if deg not in degs:\n",
        "    degs[deg] = 0 \n",
        "  degs[deg] += 1\n",
        "items = sorted(degs.items())\n",
        "\n",
        "fig = plt.figure()\n",
        "ax = fig.add_subplot(111)\n",
        "ax.plot([k for (k,v) in items], [v for (k,v) in items]) \n",
        "ax.set_xlabel(\"log degree\")\n",
        "ax.set_ylabel(\"log frequency\")\n",
        "ax.set_xscale('log') \n",
        "ax.set_yscale('log')\n",
        "plt.title(\"Degree Distribution\")\n",
        "plt.show()"
      ],
      "execution_count": null,
      "outputs": [
        {
          "output_type": "display_data",
          "data": {
            "image/png": "[encoded data removed]",
            "text/plain": [
              "<Figure size 432x288 with 1 Axes>"
            ]
          },
          "metadata": {
            "needs_background": "light"
          }
        }
      ]
    },
    {
      "cell_type": "code",
      "metadata": {
        "id": "8rQ1l_MOqEsw",
        "colab": {
          "base_uri": "https://localhost:8080/"
        },
        "outputId": "c8341c6a-5539-4730-9be9-b7f6754f81d4"
      },
      "source": [
        "adj_mat = nx.to_numpy_matrix(Gnp, weight=None)\n",
        "res = matrix_power(adj_mat, 7) \n",
        "paths_with_sevlen = np.sum(res)/2\n",
        "paths_with_sevlen"
      ],
      "execution_count": null,
      "outputs": [
        {
          "output_type": "execute_result",
          "data": {
            "text/plain": [
              "2.3848207551288253e+18"
            ]
          },
          "metadata": {},
          "execution_count": 9
        }
      ]
    },
    {
      "cell_type": "code",
      "metadata": {
        "colab": {
          "base_uri": "https://localhost:8080/"
        },
        "id": "ipgtkoVfqIuH",
        "outputId": "26f8f343-d5c8-43a8-fad5-8b880427a5eb"
      },
      "source": [
        "print(nx.is_connected(Gnp))"
      ],
      "execution_count": null,
      "outputs": [
        {
          "output_type": "stream",
          "name": "stdout",
          "text": [
            "True\n"
          ]
        }
      ]
    },
    {
      "cell_type": "code",
      "metadata": {
        "colab": {
          "base_uri": "https://localhost:8080/"
        },
        "id": "DON9n3NOqQG_",
        "outputId": "d084d232-0909-41bf-ae75-16ac67726c01"
      },
      "source": [
        "print(nx.diameter(Gnp))"
      ],
      "execution_count": null,
      "outputs": [
        {
          "output_type": "stream",
          "name": "stdout",
          "text": [
            "3\n"
          ]
        }
      ]
    },
    {
      "cell_type": "code",
      "metadata": {
        "id": "S-Q6ndcAhMTH",
        "colab": {
          "base_uri": "https://localhost:8080/"
        },
        "outputId": "d1e0cb33-1568-436e-cfe4-cfc0f02f9619"
      },
      "source": [
        "adj_mat = nx.to_numpy_matrix(Gnp, weight=None)\n",
        "a3 = matrix_power(adj_mat, 3) \n",
        "\n",
        "K3 = np.trace(a3)/6\n",
        "\n",
        "a2 =  matrix_power(adj_mat, 2)\n",
        "tmp = np.sum(a2)\n",
        "W = (tmp - 6 * K3) / 2\n",
        "\n",
        "cc = 6 * K3 / W\n",
        "cc"
      ],
      "execution_count": null,
      "outputs": [
        {
          "output_type": "execute_result",
          "data": {
            "text/plain": [
              "0.040456267943314195"
            ]
          },
          "metadata": {},
          "execution_count": 14
        }
      ]
    },
    {
      "cell_type": "code",
      "metadata": {
        "colab": {
          "base_uri": "https://localhost:8080/"
        },
        "id": "KW-COgxGEWEB",
        "outputId": "c6a745da-bb07-4ab0-a555-dba17f6b32fe"
      },
      "source": [
        "components  = (G.subgraph(c).copy() for c in nx.connected_components(Gnp))\n",
        "cc_lens = []\n",
        "for c in components:\n",
        "  cc_lens.append(c.number_of_nodes())\n",
        "\n",
        "print(len(cc_lens))\n",
        "cc_lens.sort(reverse=True)\n",
        "print(cc_lens [:5])\n"
      ],
      "execution_count": null,
      "outputs": [
        {
          "output_type": "stream",
          "name": "stdout",
          "text": [
            "1\n",
            "[6596]\n"
          ]
        }
      ]
    },
    {
      "cell_type": "markdown",
      "metadata": {
        "id": "9i4Dg08fL4tr"
      },
      "source": [
        "# Question 5"
      ]
    },
    {
      "cell_type": "code",
      "metadata": {
        "id": "20NMT2J8c4e-"
      },
      "source": [
        "def change_MAT_to_TXT(input_file, output_file):\n",
        "    mat = scipy.io.loadmat(input_file)\n",
        "    A = mat.__getitem__('A')\n",
        "    file = open(output_file, 'w')\n",
        "    for i in range(A.shape[0]):\n",
        "        for j in A[i].nonzero()[1]:\n",
        "            file.write(str(i) + ' ' + str(j) + ' ' + str(A[i, j]) + '\\n')\n",
        "    file.close()"
      ],
      "execution_count": 10,
      "outputs": []
    },
    {
      "cell_type": "code",
      "metadata": {
        "id": "WV5_NmIcdPhv"
      },
      "source": [
        "def build_matrix(dataset, size_matrix):\n",
        "    result = np.zeros([size_matrix, size_matrix])\n",
        "    A = open(dataset, encoding='utf-8')\n",
        "    for line in A:\n",
        "        text = line.split()\n",
        "        result[int(text[0]), int(text[1])] = 1\n",
        "    return result"
      ],
      "execution_count": null,
      "outputs": []
    },
    {
      "cell_type": "code",
      "metadata": {
        "id": "xs10SGWgdCIM"
      },
      "source": [
        "input_file = 'facebook101_princton_weighted.mat'\n",
        "txt_input_file = 'faceook101.txt'\n",
        "change_MAT_to_TXT(input_file, txt_input_file)\n",
        "num_node = 6596\n",
        "adjacency_matrix = build_matrix(txt_input_file, num_node)"
      ],
      "execution_count": 22,
      "outputs": []
    },
    {
      "cell_type": "code",
      "metadata": {
        "id": "svcbY4YUdbUW"
      },
      "source": [
        "def build_probable_matrices(adjacency_matrix, num_realization, p):\n",
        "    list_m = []\n",
        "    for x in range(num_realization):\n",
        "        temp = np.array(adjacency_matrix)\n",
        "        for i in range(num_node):\n",
        "            indexes = np.nonzero(temp[i])\n",
        "            for j in indexes[0]:\n",
        "                if j>= i :\n",
        "                    temp[i, j] = np.random.uniform(0, 1, 1)[0] < p\n",
        "                    temp[j,i] = temp[i,j]\n",
        "        list_m.append(temp)\n",
        "    return list_m"
      ],
      "execution_count": 23,
      "outputs": []
    },
    {
      "cell_type": "code",
      "metadata": {
        "id": "CiHyYtf9dci7"
      },
      "source": [
        "num_realization = 10\n",
        "list_realization = build_probable_matrices(adjacency_matrix, num_realization, p=0.1)"
      ],
      "execution_count": 24,
      "outputs": []
    },
    {
      "cell_type": "code",
      "metadata": {
        "id": "ofaaQ6BUdn6G"
      },
      "source": [
        "def get_neighbor(g, node):\n",
        "    return np.nonzero(g[node])[0]"
      ],
      "execution_count": 25,
      "outputs": []
    },
    {
      "cell_type": "code",
      "metadata": {
        "id": "o5GgezChd1Rv"
      },
      "source": [
        "def IC_opt(list_g, S):\n",
        "    score = 0\n",
        "    for g in list_g:\n",
        "        neighbor = []\n",
        "        for s in S:\n",
        "            neighbor.extend(np.nonzero(g[s])[0])\n",
        "        score += len(list(set(neighbor)))\n",
        "    score /= len(list_g)\n",
        "    return score"
      ],
      "execution_count": 26,
      "outputs": []
    },
    {
      "cell_type": "code",
      "metadata": {
        "id": "OlI2tpUqd7qn"
      },
      "source": [
        "def greedy_hill_climbing(g, k):\n",
        "    S, spread = [], []\n",
        "    kprime = min(k, num_node)\n",
        "    for o in range(kprime):\n",
        "        best_spread = 0\n",
        "        for j in set(range(num_node)) - set(S):\n",
        "            s = IC_opt(g, S + [j])\n",
        "            if s >= best_spread:\n",
        "                best_spread, node = s, j\n",
        "        S.append(node)\n",
        "        spread.append(best_spread)\n",
        "    return S, spread"
      ],
      "execution_count": 27,
      "outputs": []
    },
    {
      "cell_type": "code",
      "metadata": {
        "id": "MzJObwi8e2Xb"
      },
      "source": [
        "size_S = 10"
      ],
      "execution_count": 28,
      "outputs": []
    },
    {
      "cell_type": "code",
      "metadata": {
        "colab": {
          "base_uri": "https://localhost:8080/"
        },
        "id": "9lmz7SsUd_Gk",
        "outputId": "0fe59ea3-9321-40ec-d6ac-55455e059d43"
      },
      "source": [
        "greedy_hill_climbing_output = greedy_hill_climbing(list_realization, size_S)\n",
        "print(str(greedy_hill_climbing_output[0]))"
      ],
      "execution_count": 29,
      "outputs": [
        {
          "output_type": "stream",
          "name": "stdout",
          "text": [
            "[412, 4894, 6068, 41, 5, 2259, 1195, 1232, 957, 606]\n"
          ]
        }
      ]
    },
    {
      "cell_type": "code",
      "metadata": {
        "id": "9fBbYzAOe1hh"
      },
      "source": [
        "def lazy_hill_climbing(g, k):\n",
        "    marg_gain = [IC_opt(g, [node]) for node in range(num_node)]\n",
        "    Q = sorted(zip(range(num_node), marg_gain), key=lambda x: x[1], reverse=True)\n",
        "    S,s, SPREAD = [Q[0][0]],Q[0][1], [Q[0][1]]\n",
        "    Q = Q[1:]\n",
        "    kprime = min(k, num_node)\n",
        "    for o in range(1, kprime):\n",
        "        check = False\n",
        "        while not check:\n",
        "            current = Q[0][0]\n",
        "            Q[0] = (current, IC_opt(g, S + [current])-s)\n",
        "            Q = sorted(Q, key=lambda x: x[1], reverse=True)\n",
        "            check = (Q[0][0] == current)\n",
        "        S.append(Q[0][0])\n",
        "        s += Q[0][1]\n",
        "        SPREAD.append(s)\n",
        "        Q = Q[1:]\n",
        "    return S, SPREAD"
      ],
      "execution_count": 34,
      "outputs": []
    },
    {
      "cell_type": "code",
      "metadata": {
        "colab": {
          "base_uri": "https://localhost:8080/"
        },
        "id": "gRsEfneOe-bW",
        "outputId": "b6dd254b-0932-4dbe-a5e1-1726b436adfe"
      },
      "source": [
        "lazy_hill_climbing_output = lazy_hill_climbing(list_realization, size_S)\n",
        "print(str(lazy_hill_climbing_output[0]))\n"
      ],
      "execution_count": 35,
      "outputs": [
        {
          "output_type": "stream",
          "name": "stdout",
          "text": [
            "[412, 4894, 6068, 41, 5, 2259, 1195, 1232, 957, 606]\n"
          ]
        }
      ]
    },
    {
      "cell_type": "markdown",
      "metadata": {
        "id": "fs50MT46qPKT"
      },
      "source": [
        "# Question 6"
      ]
    },
    {
      "cell_type": "code",
      "metadata": {
        "id": "oBsMgpFnsrWY"
      },
      "source": [
        "def build_matrix(dataset, size_matrix):\n",
        "    result = np.zeros([size_matrix, size_matrix])\n",
        "    A = open(dataset, encoding='utf-8')\n",
        "    for line in A:\n",
        "        text = line.split()\n",
        "        result[int(text[0]), int(text[1])] = abs(float(text[2]))\n",
        "    return result\n",
        "\n",
        "\n",
        "def build_probable_matrices(adjacency_matrix, mc, p):\n",
        "    list_m = []\n",
        "    for x in range(mc):\n",
        "        temp = np.array(adjacency_matrix)\n",
        "        for i in range(num_node):\n",
        "            indexes = np.nonzero(temp[i])\n",
        "            for j in indexes[0]:\n",
        "                if j >= i :\n",
        "                    temp[i, j] = np.random.uniform(0, 1, 1)[0] < p\n",
        "                    temp[j,i] = temp[i,j]\n",
        "        list_m.append(temp)\n",
        "    return list_m"
      ],
      "execution_count": 1,
      "outputs": []
    },
    {
      "cell_type": "code",
      "metadata": {
        "id": "ENDwH4N5svW4"
      },
      "source": [
        "def get_neighbor(g, node):\n",
        "    neighbor = np.nonzero(g[node])\n",
        "    if not neighbor: return []\n",
        "    return np.nonzero(g[node])[0]"
      ],
      "execution_count": 2,
      "outputs": []
    },
    {
      "cell_type": "code",
      "metadata": {
        "id": "Nf0zVqHFsycs"
      },
      "source": [
        "def IC_opt(list_g, S):\n",
        "    score = 0\n",
        "    for g in list_g:\n",
        "        neighbor = []\n",
        "        for s in S:\n",
        "            neighbor.extend(get_neighbor(g,s))\n",
        "        score += len(list(set(neighbor)))\n",
        "    score /= len(list_g)\n",
        "    return score"
      ],
      "execution_count": 3,
      "outputs": []
    },
    {
      "cell_type": "code",
      "metadata": {
        "id": "TwJGybGrspbH"
      },
      "source": [
        "def cost(S, list_g):\n",
        "    temp = []\n",
        "    for s in S:\n",
        "        temp.append(adjacency_matrix[s])\n",
        "    temp = np.array(temp)\n",
        "    cost = 0\n",
        "    for g in list_g:\n",
        "        temp1 = []\n",
        "        for s in S:\n",
        "            temp1.append(g[s])\n",
        "        temp1 = np.array(temp1)\n",
        "        temp2 = np.multiply(temp1, temp)\n",
        "        cost += sum(sum(temp2))\n",
        "    if cost == 0: cost += 1\n",
        "    return cost / len(list_g)\n",
        "\n"
      ],
      "execution_count": 4,
      "outputs": []
    },
    {
      "cell_type": "code",
      "metadata": {
        "id": "1qJaOd3Ss2q1"
      },
      "source": [
        "def lazy_hill_climbing(g, unitCost_or_benefitRatio):\n",
        "    global save_IC\n",
        "    if unitCost_or_benefitRatio:\n",
        "        marg_gain = [IC_opt(g, [node]) for node in range(num_node)]\n",
        "        save_IC = marg_gain\n",
        "    else:\n",
        "        marg_gain = [save_IC[node] / cost([node], g) for node in range(num_node)]\n",
        "    Q = sorted(zip(range(num_node), marg_gain), key=lambda x: x[1], reverse=True)\n",
        "    S , s = [Q[0][0]] , Q[0][1]\n",
        "    c = cost(S,g)\n",
        "    if not unitCost_or_benefitRatio :\n",
        "        SPREAD = c\n",
        "    else : SPREAD = 1\n",
        "    SPREAD = SPREAD * Q[0][1]\n",
        "    Q = Q[1:]\n",
        "    flag = True\n",
        "    counter_s = 1\n",
        "    while flag:\n",
        "        check = False\n",
        "        while not check:\n",
        "            current = Q[0][0]\n",
        "            if unitCost_or_benefitRatio:\n",
        "                Q[0] = (current, IC_opt(g, S + [current])-s)\n",
        "            else:\n",
        "                Q[0] = (current, (IC_opt(g, S + [current]) / cost(S + [current], g))-s)\n",
        "            Q = sorted(Q, key=lambda x: x[1], reverse=True)\n",
        "            check = (Q[0][0] == current)\n",
        "        c = cost(S + [Q[0][0]], g)\n",
        "        temp = Q[0][1]\n",
        "        temp+=s\n",
        "        if unitCost_or_benefitRatio:\n",
        "            temp /= c\n",
        "        if 0.3 * (temp) > 1:\n",
        "            SPREAD = temp * c\n",
        "            s+= Q[0][1]\n",
        "            S.append(Q[0][0])\n",
        "            counter_s += 1\n",
        "            Q = Q[1:]\n",
        "        else:\n",
        "            NSPREAD = temp * c\n",
        "            flag = False\n",
        "    return S, SPREAD\n",
        "\n"
      ],
      "execution_count": 5,
      "outputs": []
    },
    {
      "cell_type": "code",
      "metadata": {
        "id": "Y7tFN4dFmBfq"
      },
      "source": [
        "def CELF(g):\n",
        "    S_unit, SPREAD_unit = lazy_hill_climbing(g, True)\n",
        "    S_benefit, SPREAD_benefit = lazy_hill_climbing(g, False)\n",
        "    if SPREAD_benefit > SPREAD_unit:\n",
        "        S = S_benefit\n",
        "        spread = SPREAD_benefit\n",
        "    else:\n",
        "        S = S_unit\n",
        "        spread = SPREAD_unit\n",
        "    return S, spread\n"
      ],
      "execution_count": 18,
      "outputs": []
    },
    {
      "cell_type": "code",
      "metadata": {
        "id": "RutmS4tyqw1A",
        "colab": {
          "base_uri": "https://localhost:8080/",
          "height": 379
        },
        "outputId": "54edc915-664a-45f9-d857-d2fc6f6bea75"
      },
      "source": [
        "input_file = 'facebook101_princton_weighted.mat'\n",
        "txt_input_file = 'faceook101.txt'\n",
        "change_MAT_to_TXT(input_file, txt_input_file)\n",
        "num_node = 6596\n",
        "adjacency_matrix = build_matrix(txt_input_file, num_node)"
      ],
      "execution_count": 33,
      "outputs": [
        {
          "output_type": "error",
          "ename": "KeyboardInterrupt",
          "evalue": "ignored",
          "traceback": [
            "\u001b[0;31m---------------------------------------------------------------------------\u001b[0m",
            "\u001b[0;31mKeyboardInterrupt\u001b[0m                         Traceback (most recent call last)",
            "\u001b[0;32m<ipython-input-33-8273f1d88b52>\u001b[0m in \u001b[0;36m<module>\u001b[0;34m()\u001b[0m\n\u001b[1;32m      1\u001b[0m \u001b[0minput_file\u001b[0m \u001b[0;34m=\u001b[0m \u001b[0;34m'facebook101_princton_weighted.mat'\u001b[0m\u001b[0;34m\u001b[0m\u001b[0;34m\u001b[0m\u001b[0m\n\u001b[1;32m      2\u001b[0m \u001b[0mtxt_input_file\u001b[0m \u001b[0;34m=\u001b[0m \u001b[0;34m'faceook101.txt'\u001b[0m\u001b[0;34m\u001b[0m\u001b[0;34m\u001b[0m\u001b[0m\n\u001b[0;32m----> 3\u001b[0;31m \u001b[0mchange_MAT_to_TXT\u001b[0m\u001b[0;34m(\u001b[0m\u001b[0minput_file\u001b[0m\u001b[0;34m,\u001b[0m \u001b[0mtxt_input_file\u001b[0m\u001b[0;34m)\u001b[0m\u001b[0;34m\u001b[0m\u001b[0;34m\u001b[0m\u001b[0m\n\u001b[0m\u001b[1;32m      4\u001b[0m \u001b[0mnum_node\u001b[0m \u001b[0;34m=\u001b[0m \u001b[0;36m6596\u001b[0m\u001b[0;34m\u001b[0m\u001b[0;34m\u001b[0m\u001b[0m\n\u001b[1;32m      5\u001b[0m \u001b[0madjacency_matrix\u001b[0m \u001b[0;34m=\u001b[0m \u001b[0mbuild_matrix\u001b[0m\u001b[0;34m(\u001b[0m\u001b[0mtxt_input_file\u001b[0m\u001b[0;34m,\u001b[0m \u001b[0mnum_node\u001b[0m\u001b[0;34m)\u001b[0m\u001b[0;34m\u001b[0m\u001b[0;34m\u001b[0m\u001b[0m\n",
            "\u001b[0;32m<ipython-input-10-1576d08da364>\u001b[0m in \u001b[0;36mchange_MAT_to_TXT\u001b[0;34m(input_file, output_file)\u001b[0m\n\u001b[1;32m      5\u001b[0m     \u001b[0;32mfor\u001b[0m \u001b[0mi\u001b[0m \u001b[0;32min\u001b[0m \u001b[0mrange\u001b[0m\u001b[0;34m(\u001b[0m\u001b[0mA\u001b[0m\u001b[0;34m.\u001b[0m\u001b[0mshape\u001b[0m\u001b[0;34m[\u001b[0m\u001b[0;36m0\u001b[0m\u001b[0;34m]\u001b[0m\u001b[0;34m)\u001b[0m\u001b[0;34m:\u001b[0m\u001b[0;34m\u001b[0m\u001b[0;34m\u001b[0m\u001b[0m\n\u001b[1;32m      6\u001b[0m         \u001b[0;32mfor\u001b[0m \u001b[0mj\u001b[0m \u001b[0;32min\u001b[0m \u001b[0mA\u001b[0m\u001b[0;34m[\u001b[0m\u001b[0mi\u001b[0m\u001b[0;34m]\u001b[0m\u001b[0;34m.\u001b[0m\u001b[0mnonzero\u001b[0m\u001b[0;34m(\u001b[0m\u001b[0;34m)\u001b[0m\u001b[0;34m[\u001b[0m\u001b[0;36m1\u001b[0m\u001b[0;34m]\u001b[0m\u001b[0;34m:\u001b[0m\u001b[0;34m\u001b[0m\u001b[0;34m\u001b[0m\u001b[0m\n\u001b[0;32m----> 7\u001b[0;31m             \u001b[0mfile\u001b[0m\u001b[0;34m.\u001b[0m\u001b[0mwrite\u001b[0m\u001b[0;34m(\u001b[0m\u001b[0mstr\u001b[0m\u001b[0;34m(\u001b[0m\u001b[0mi\u001b[0m\u001b[0;34m)\u001b[0m \u001b[0;34m+\u001b[0m \u001b[0;34m' '\u001b[0m \u001b[0;34m+\u001b[0m \u001b[0mstr\u001b[0m\u001b[0;34m(\u001b[0m\u001b[0mj\u001b[0m\u001b[0;34m)\u001b[0m \u001b[0;34m+\u001b[0m \u001b[0;34m' '\u001b[0m \u001b[0;34m+\u001b[0m \u001b[0mstr\u001b[0m\u001b[0;34m(\u001b[0m\u001b[0mA\u001b[0m\u001b[0;34m[\u001b[0m\u001b[0mi\u001b[0m\u001b[0;34m,\u001b[0m \u001b[0mj\u001b[0m\u001b[0;34m]\u001b[0m\u001b[0;34m)\u001b[0m \u001b[0;34m+\u001b[0m \u001b[0;34m'\\n'\u001b[0m\u001b[0;34m)\u001b[0m\u001b[0;34m\u001b[0m\u001b[0;34m\u001b[0m\u001b[0m\n\u001b[0m\u001b[1;32m      8\u001b[0m     \u001b[0mfile\u001b[0m\u001b[0;34m.\u001b[0m\u001b[0mclose\u001b[0m\u001b[0;34m(\u001b[0m\u001b[0;34m)\u001b[0m\u001b[0;34m\u001b[0m\u001b[0;34m\u001b[0m\u001b[0m\n",
            "\u001b[0;32m/usr/local/lib/python3.7/dist-packages/scipy/sparse/_index.py\u001b[0m in \u001b[0;36m__getitem__\u001b[0;34m(self, key)\u001b[0m\n\u001b[1;32m     37\u001b[0m         \u001b[0;32mif\u001b[0m \u001b[0misinstance\u001b[0m\u001b[0;34m(\u001b[0m\u001b[0mrow\u001b[0m\u001b[0;34m,\u001b[0m \u001b[0mINT_TYPES\u001b[0m\u001b[0;34m)\u001b[0m\u001b[0;34m:\u001b[0m\u001b[0;34m\u001b[0m\u001b[0;34m\u001b[0m\u001b[0m\n\u001b[1;32m     38\u001b[0m             \u001b[0;32mif\u001b[0m \u001b[0misinstance\u001b[0m\u001b[0;34m(\u001b[0m\u001b[0mcol\u001b[0m\u001b[0;34m,\u001b[0m \u001b[0mINT_TYPES\u001b[0m\u001b[0;34m)\u001b[0m\u001b[0;34m:\u001b[0m\u001b[0;34m\u001b[0m\u001b[0;34m\u001b[0m\u001b[0m\n\u001b[0;32m---> 39\u001b[0;31m                 \u001b[0;32mreturn\u001b[0m \u001b[0mself\u001b[0m\u001b[0;34m.\u001b[0m\u001b[0m_get_intXint\u001b[0m\u001b[0;34m(\u001b[0m\u001b[0mrow\u001b[0m\u001b[0;34m,\u001b[0m \u001b[0mcol\u001b[0m\u001b[0;34m)\u001b[0m\u001b[0;34m\u001b[0m\u001b[0;34m\u001b[0m\u001b[0m\n\u001b[0m\u001b[1;32m     40\u001b[0m             \u001b[0;32melif\u001b[0m \u001b[0misinstance\u001b[0m\u001b[0;34m(\u001b[0m\u001b[0mcol\u001b[0m\u001b[0;34m,\u001b[0m \u001b[0mslice\u001b[0m\u001b[0;34m)\u001b[0m\u001b[0;34m:\u001b[0m\u001b[0;34m\u001b[0m\u001b[0;34m\u001b[0m\u001b[0m\n\u001b[1;32m     41\u001b[0m                 \u001b[0;32mreturn\u001b[0m \u001b[0mself\u001b[0m\u001b[0;34m.\u001b[0m\u001b[0m_get_intXslice\u001b[0m\u001b[0;34m(\u001b[0m\u001b[0mrow\u001b[0m\u001b[0;34m,\u001b[0m \u001b[0mcol\u001b[0m\u001b[0;34m)\u001b[0m\u001b[0;34m\u001b[0m\u001b[0;34m\u001b[0m\u001b[0m\n",
            "\u001b[0;32m/usr/local/lib/python3.7/dist-packages/scipy/sparse/compressed.py\u001b[0m in \u001b[0;36m_get_intXint\u001b[0;34m(self, row, col)\u001b[0m\n\u001b[1;32m    644\u001b[0m         indptr, indices, data = get_csr_submatrix(\n\u001b[1;32m    645\u001b[0m             \u001b[0mM\u001b[0m\u001b[0;34m,\u001b[0m \u001b[0mN\u001b[0m\u001b[0;34m,\u001b[0m \u001b[0mself\u001b[0m\u001b[0;34m.\u001b[0m\u001b[0mindptr\u001b[0m\u001b[0;34m,\u001b[0m \u001b[0mself\u001b[0m\u001b[0;34m.\u001b[0m\u001b[0mindices\u001b[0m\u001b[0;34m,\u001b[0m \u001b[0mself\u001b[0m\u001b[0;34m.\u001b[0m\u001b[0mdata\u001b[0m\u001b[0;34m,\u001b[0m\u001b[0;34m\u001b[0m\u001b[0;34m\u001b[0m\u001b[0m\n\u001b[0;32m--> 646\u001b[0;31m             major, major + 1, minor, minor + 1)\n\u001b[0m\u001b[1;32m    647\u001b[0m         \u001b[0;32mreturn\u001b[0m \u001b[0mdata\u001b[0m\u001b[0;34m.\u001b[0m\u001b[0msum\u001b[0m\u001b[0;34m(\u001b[0m\u001b[0mdtype\u001b[0m\u001b[0;34m=\u001b[0m\u001b[0mself\u001b[0m\u001b[0;34m.\u001b[0m\u001b[0mdtype\u001b[0m\u001b[0;34m)\u001b[0m\u001b[0;34m\u001b[0m\u001b[0;34m\u001b[0m\u001b[0m\n\u001b[1;32m    648\u001b[0m \u001b[0;34m\u001b[0m\u001b[0m\n",
            "\u001b[0;31mKeyboardInterrupt\u001b[0m: "
          ]
        }
      ]
    },
    {
      "cell_type": "code",
      "metadata": {
        "id": "SGczMrTnrUIR"
      },
      "source": [
        "num_realization = 10\n",
        "list_realization = build_probable_matrices(adjacency_matrix, mc=num_realization, p=0.1)"
      ],
      "execution_count": 14,
      "outputs": []
    },
    {
      "cell_type": "code",
      "metadata": {
        "id": "jED_w0_Ns-Ee",
        "colab": {
          "base_uri": "https://localhost:8080/"
        },
        "outputId": "9e6ad1b8-6ef9-4468-cff5-2a560a53d03d"
      },
      "source": [
        "save_IC = []\n",
        "S, spread = CELF(list_realization)\n",
        "print(\"outbreak detects by =  \" + str(S))\n",
        "print(\"mean spread value = \" + str(spread))"
      ],
      "execution_count": 19,
      "outputs": [
        {
          "output_type": "stream",
          "name": "stdout",
          "text": [
            "outbreak detects by =  [2889, 372, 478, 492, 551, 624, 646, 661, 754, 755, 765, 855, 890, 1036, 1046, 1116, 1241, 1264, 1443, 1540, 1557, 1634, 1677, 1722, 1789, 1808, 1835, 1930, 2007, 2030, 2122, 2257, 2367, 2397, 2407, 2476, 2478, 2502, 2517, 2520, 2532, 2624, 2689, 2822, 2859, 2871, 2943, 3093, 3109, 3177, 3253, 3366, 3440, 3450, 3493, 3528, 3639, 3664, 3733, 3888, 3897, 4129, 4135, 4303, 4320, 4389, 4407, 4565, 4581, 4629, 4668, 4697, 4773, 4993, 4999, 5024, 5069, 5191, 5251, 5290, 5411, 5416, 5419, 5442, 5588, 5675, 5767, 5808, 5810, 5820, 5850, 5874, 6022, 6033, 6145, 6343, 6356, 6360, 6460, 6527, 556, 2378, 675, 1269, 4853, 5720, 5744, 4909, 3902, 5120, 4089, 1871, 5775, 1381, 2799, 126, 4227, 1064, 5985, 2184, 3663, 6365, 2885, 1040, 6063, 5614, 4749, 980, 2710, 1758, 2443, 357, 4741, 1396, 3302, 5061, 3217, 6255, 3752, 5700, 3967, 3018, 1027, 4082, 1819, 2186, 2475, 369, 4468, 4458, 4767, 1346, 2645, 5301, 5098, 4433, 4241, 3747, 664, 4021, 4428, 2715, 3795, 3955, 5996, 5730, 4096, 6257, 4942, 5895, 6005, 1371, 231, 3191, 5179, 4582, 5332, 2017, 1804, 4595, 336, 4878, 2786, 1123, 2471, 850, 2171, 2673, 389, 2473, 2977, 3395, 4421, 2768, 3801, 390, 3438, 4302, 3804, 200, 2693, 6249, 3652, 4662, 2826, 5781, 3783, 4075, 3677, 5579, 6350, 2708, 5890, 4377, 2935, 2679, 3435, 6279, 3876, 1328, 1197, 758, 6240, 1229, 4852, 4807, 5494, 5366, 4261, 2951, 3615, 5478, 1526, 4961, 1704, 3163, 5577, 1765, 3514, 3397, 2523, 5816, 1333, 6055, 3785, 4620, 1961, 1754, 1367, 5734, 5707, 4378, 5265, 22, 3367, 4832, 4835, 1610, 5549, 2389, 1897, 3244, 4133, 4705, 244, 6363, 5520, 109, 3038, 3865, 5555, 2581, 1223, 161, 2902, 2753, 2347, 3183, 4462, 3058, 5446, 3348, 4901, 2046, 728, 5005, 1083, 2616, 4497, 5133, 3798, 3290, 5797, 3698, 1316, 5811, 6115, 3826, 2331, 2750, 3090, 1317, 4172, 3532, 720, 2419, 6374, 5547, 5699, 315, 4414, 836, 1786, 549, 828, 6495, 3671, 6294, 1777, 4708, 4730, 2707, 5383, 4217, 1402, 971, 564, 6580, 4898, 4327, 2840, 5105, 584, 5230, 1416, 3406, 4865, 4104, 4000, 3890, 1938, 1385, 5997, 1669, 749, 2851, 5915, 1542, 4270, 1262, 3537, 6278, 2511, 4737, 2396, 2469, 498, 6539, 4994, 769, 605, 1028, 629, 3646, 2982, 2451, 6465, 5225, 6053, 4026, 641, 2620, 5459, 5135, 3067, 5398, 915, 5930, 2274, 3232, 4481, 4572, 574, 4655, 1591]\n",
            "mean spread value = 139.5\n"
          ]
        }
      ]
    }
  ]
}