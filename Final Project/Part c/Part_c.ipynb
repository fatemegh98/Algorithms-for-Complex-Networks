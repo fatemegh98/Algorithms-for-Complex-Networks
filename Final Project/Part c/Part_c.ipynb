{
  "nbformat": 4,
  "nbformat_minor": 0,
  "metadata": {
    "colab": {
      "name": "Part c.ipynb",
      "provenance": [],
      "collapsed_sections": []
    },
    "kernelspec": {
      "name": "python3",
      "display_name": "Python 3"
    },
    "language_info": {
      "name": "python"
    }
  },
  "cells": [
    {
      "cell_type": "code",
      "execution_count": 7,
      "metadata": {
        "colab": {
          "base_uri": "https://localhost:8080/"
        },
        "id": "euxrfeG0ukqG",
        "outputId": "ffe1215a-e1ee-4911-c867-a5836ad43b8c"
      },
      "outputs": [
        {
          "output_type": "stream",
          "name": "stdout",
          "text": [
            "Looking in links: https://pytorch-geometric.com/whl/torch-1.10.0+cu111.html\n",
            "Requirement already satisfied: torch-scatter in /usr/local/lib/python3.7/dist-packages (2.0.9)\n",
            "Looking in links: https://pytorch-geometric.com/whl/torch-1.10.0+cu111.html\n",
            "Requirement already satisfied: torch-sparse in /usr/local/lib/python3.7/dist-packages (0.6.12)\n",
            "Requirement already satisfied: scipy in /usr/local/lib/python3.7/dist-packages (from torch-sparse) (1.4.1)\n",
            "Requirement already satisfied: numpy>=1.13.3 in /usr/local/lib/python3.7/dist-packages (from scipy->torch-sparse) (1.19.5)\n",
            "Looking in links: https://pytorch-geometric.com/whl/torch-1.10.0+cu111.html\n",
            "Requirement already satisfied: torch-cluster in /usr/local/lib/python3.7/dist-packages (1.5.9)\n",
            "Looking in links: https://pytorch-geometric.com/whl/torch-1.10.0+cu111.html\n",
            "Requirement already satisfied: torch-spline-conv in /usr/local/lib/python3.7/dist-packages (1.2.1)\n",
            "Requirement already satisfied: torch-geometric in /usr/local/lib/python3.7/dist-packages (2.0.3)\n",
            "Requirement already satisfied: rdflib in /usr/local/lib/python3.7/dist-packages (from torch-geometric) (6.1.1)\n",
            "Requirement already satisfied: networkx in /usr/local/lib/python3.7/dist-packages (from torch-geometric) (2.6.3)\n",
            "Requirement already satisfied: tqdm in /usr/local/lib/python3.7/dist-packages (from torch-geometric) (4.62.3)\n",
            "Requirement already satisfied: numpy in /usr/local/lib/python3.7/dist-packages (from torch-geometric) (1.19.5)\n",
            "Requirement already satisfied: yacs in /usr/local/lib/python3.7/dist-packages (from torch-geometric) (0.1.8)\n",
            "Requirement already satisfied: scipy in /usr/local/lib/python3.7/dist-packages (from torch-geometric) (1.4.1)\n",
            "Requirement already satisfied: pyparsing in /usr/local/lib/python3.7/dist-packages (from torch-geometric) (3.0.7)\n",
            "Requirement already satisfied: googledrivedownloader in /usr/local/lib/python3.7/dist-packages (from torch-geometric) (0.4)\n",
            "Requirement already satisfied: jinja2 in /usr/local/lib/python3.7/dist-packages (from torch-geometric) (2.11.3)\n",
            "Requirement already satisfied: scikit-learn in /usr/local/lib/python3.7/dist-packages (from torch-geometric) (1.0.2)\n",
            "Requirement already satisfied: pandas in /usr/local/lib/python3.7/dist-packages (from torch-geometric) (1.3.5)\n",
            "Requirement already satisfied: PyYAML in /usr/local/lib/python3.7/dist-packages (from torch-geometric) (3.13)\n",
            "Requirement already satisfied: requests in /usr/local/lib/python3.7/dist-packages (from torch-geometric) (2.23.0)\n",
            "Requirement already satisfied: MarkupSafe>=0.23 in /usr/local/lib/python3.7/dist-packages (from jinja2->torch-geometric) (2.0.1)\n",
            "Requirement already satisfied: pytz>=2017.3 in /usr/local/lib/python3.7/dist-packages (from pandas->torch-geometric) (2018.9)\n",
            "Requirement already satisfied: python-dateutil>=2.7.3 in /usr/local/lib/python3.7/dist-packages (from pandas->torch-geometric) (2.8.2)\n",
            "Requirement already satisfied: six>=1.5 in /usr/local/lib/python3.7/dist-packages (from python-dateutil>=2.7.3->pandas->torch-geometric) (1.15.0)\n",
            "Requirement already satisfied: importlib-metadata in /usr/local/lib/python3.7/dist-packages (from rdflib->torch-geometric) (4.10.1)\n",
            "Requirement already satisfied: setuptools in /usr/local/lib/python3.7/dist-packages (from rdflib->torch-geometric) (57.4.0)\n",
            "Requirement already satisfied: isodate in /usr/local/lib/python3.7/dist-packages (from rdflib->torch-geometric) (0.6.1)\n",
            "Requirement already satisfied: typing-extensions>=3.6.4 in /usr/local/lib/python3.7/dist-packages (from importlib-metadata->rdflib->torch-geometric) (3.10.0.2)\n",
            "Requirement already satisfied: zipp>=0.5 in /usr/local/lib/python3.7/dist-packages (from importlib-metadata->rdflib->torch-geometric) (3.7.0)\n",
            "Requirement already satisfied: certifi>=2017.4.17 in /usr/local/lib/python3.7/dist-packages (from requests->torch-geometric) (2021.10.8)\n",
            "Requirement already satisfied: chardet<4,>=3.0.2 in /usr/local/lib/python3.7/dist-packages (from requests->torch-geometric) (3.0.4)\n",
            "Requirement already satisfied: urllib3!=1.25.0,!=1.25.1,<1.26,>=1.21.1 in /usr/local/lib/python3.7/dist-packages (from requests->torch-geometric) (1.24.3)\n",
            "Requirement already satisfied: idna<3,>=2.5 in /usr/local/lib/python3.7/dist-packages (from requests->torch-geometric) (2.10)\n",
            "Requirement already satisfied: joblib>=0.11 in /usr/local/lib/python3.7/dist-packages (from scikit-learn->torch-geometric) (1.1.0)\n",
            "Requirement already satisfied: threadpoolctl>=2.0.0 in /usr/local/lib/python3.7/dist-packages (from scikit-learn->torch-geometric) (3.1.0)\n",
            "Requirement already satisfied: pyg in /usr/local/lib/python3.7/dist-packages (0.7.1)\n",
            "Requirement already satisfied: argh in /usr/local/lib/python3.7/dist-packages (from pyg) (0.26.2)\n",
            "Requirement already satisfied: setuptools in /usr/local/lib/python3.7/dist-packages (from pyg) (57.4.0)\n",
            "Requirement already satisfied: pkgtools>=0.7 in /usr/local/lib/python3.7/dist-packages (from pyg) (0.7.3)\n"
          ]
        }
      ],
      "source": [
        "import torch\n",
        "def format_pytorch_version(version):\n",
        "  return version.split('+')[0]\n",
        "TORCH_version = torch.__version__\n",
        "TORCH = format_pytorch_version(TORCH_version)\n",
        "def format_cuda_version(version):\n",
        "  return 'cu' + version.replace('.', '')\n",
        "CUDA_version = torch.version.cuda\n",
        "CUDA = format_cuda_version(CUDA_version)\n",
        "!pip install torch-scatter     -f https://pytorch-geometric.com/whl/torch-{TORCH}+{CUDA}.html\n",
        "!pip install torch-sparse      -f https://pytorch-geometric.com/whl/torch-{TORCH}+{CUDA}.html\n",
        "!pip install torch-cluster     -f https://pytorch-geometric.com/whl/torch-{TORCH}+{CUDA}.html\n",
        "!pip install torch-spline-conv -f https://pytorch-geometric.com/whl/torch-{TORCH}+{CUDA}.html\n",
        "!pip install torch-geometric \n",
        "!pip install pyg\n",
        "import os.path as osp\n",
        "import torch.nn.functional as F\n",
        "import torch_geometric.transforms as T\n",
        "from torch_geometric.datasets import Planetoid\n",
        "from torch_geometric.nn import GATConv\n",
        "%matplotlib inline\n",
        "import networkx as nx\n",
        "import matplotlib.pyplot as plt\n"
      ]
    },
    {
      "cell_type": "code",
      "source": [
        "#@title Cora dataset\n",
        "dataset = Planetoid(root='/tmp/Cora', name='Cora', transform=T.NormalizeFeatures())\n",
        "data = dataset[0]"
      ],
      "metadata": {
        "id": "vHZ6g4CYusAw"
      },
      "execution_count": 8,
      "outputs": []
    },
    {
      "cell_type": "code",
      "source": [
        "class Net(torch.nn.Module):\n",
        "    def __init__(self, in_channels, out_channels, headsIn):\n",
        "        super().__init__()\n",
        "\n",
        "        self.conv1 = GATConv(in_channels, 8, heads=headsIn, dropout=0.6)\n",
        "        self.conv2 = GATConv(headsIn * 8, out_channels, heads=1, concat=False,\n",
        "                             dropout=0.6)\n",
        "\n",
        "    def forward(self, x, edge_index):\n",
        "        x = F.dropout(x, p=0.6, training=self.training)\n",
        "        x = F.elu(self.conv1(x, edge_index))\n",
        "        x = F.dropout(x, p=0.6, training=self.training)\n",
        "        x = self.conv2(x, edge_index)\n",
        "        return F.log_softmax(x, dim=-1)\n",
        "\n",
        "\n",
        "\n",
        "\n",
        "def train(data):\n",
        "    model.train()\n",
        "    optimizer.zero_grad()\n",
        "    out = model(data.x, data.edge_index)\n",
        "    loss = F.nll_loss(out[data.train_mask], data.y[data.train_mask])\n",
        "    loss.backward()\n",
        "    optimizer.step()\n",
        "\n",
        "\n",
        "@torch.no_grad()\n",
        "def test(data):\n",
        "    model.eval()\n",
        "    out, accs = model(data.x, data.edge_index), []\n",
        "    for _, mask in data('train_mask', 'val_mask', 'test_mask'):\n",
        "        acc = float((out[mask].argmax(-1) == data.y[mask]).sum() / mask.sum())\n",
        "        accs.append(acc)\n",
        "    return accs\n",
        "\n",
        "\n",
        "test_accuracies = []\n",
        "train_accuracies = []\n",
        "for i in range(1, 21):\n",
        "  device = torch.device('cuda' if torch.cuda.is_available() else 'cpu')\n",
        "  model = Net(dataset.num_features, dataset.num_classes, i).to(device)\n",
        "  data = data.to(device)\n",
        "  optimizer = torch.optim.Adam(model.parameters(), lr=0.005, weight_decay=0.0005)\n",
        "  for epoch in range(1, 201):\n",
        "    train(data)\n",
        "    train_acc, val_acc, test_acc = test(data)\n",
        "    #print(f'Epoch: {epoch:03d}, Train: {train_acc:.4f}, Val: {val_acc:.4f}, 'f'Test: {test_acc:.4f}')\n",
        "    if epoch == 200:\n",
        "      test_accuracies.append(test_acc)\n",
        "      train_accuracies.append(train_acc)\n",
        "plt.plot(range(1,21), test_accuracies, 'r--', range(1,21), train_accuracies, 'g^')\n",
        "plt.xlabel('Number of Heads')\n",
        "plt.ylabel('Accuracy')\n",
        "plt.legend(['test accuracy', 'train accuracy'])\n",
        "plt.show()"
      ],
      "metadata": {
        "colab": {
          "base_uri": "https://localhost:8080/",
          "height": 279
        },
        "id": "h09aWYDAu5rw",
        "outputId": "e9414af8-d9cb-4ec5-dde7-2dbb0368e1f4"
      },
      "execution_count": 9,
      "outputs": [
        {
          "output_type": "display_data",
          "data": {
            "image/png": "[encoded data removed]",
            "text/plain": [
              "<Figure size 432x288 with 1 Axes>"
            ]
          },
          "metadata": {
            "needs_background": "light"
          }
        }
      ]
    },
    {
      "cell_type": "code",
      "source": [
        "#@title Citeseer Dataset\n",
        "dataset = 'Citeseer'\n",
        "dataset = Planetoid(root='/tmp/Citeseer', name=dataset, transform=T.NormalizeFeatures())\n",
        "data = dataset[0]"
      ],
      "metadata": {
        "id": "W6kcMOlV5IJQ"
      },
      "execution_count": 10,
      "outputs": []
    },
    {
      "cell_type": "code",
      "source": [
        "class Net(torch.nn.Module):\n",
        "    def __init__(self, in_channels, out_channels, headsIn):\n",
        "        super().__init__()\n",
        "\n",
        "        self.conv1 = GATConv(in_channels, 8, heads=headsIn, dropout=0.6)\n",
        "        self.conv2 = GATConv(headsIn * 8, out_channels, heads=1, concat=False,\n",
        "                             dropout=0.6)\n",
        "\n",
        "    def forward(self, x, edge_index):\n",
        "        x = F.dropout(x, p=0.6, training=self.training)\n",
        "        x = F.elu(self.conv1(x, edge_index))\n",
        "        x = F.dropout(x, p=0.6, training=self.training)\n",
        "        x = self.conv2(x, edge_index)\n",
        "        return F.log_softmax(x, dim=-1)\n",
        "\n",
        "\n",
        "\n",
        "\n",
        "def train(data):\n",
        "    model.train()\n",
        "    optimizer.zero_grad()\n",
        "    out = model(data.x, data.edge_index)\n",
        "    loss = F.nll_loss(out[data.train_mask], data.y[data.train_mask])\n",
        "    loss.backward()\n",
        "    optimizer.step()\n",
        "\n",
        "\n",
        "@torch.no_grad()\n",
        "def test(data):\n",
        "    model.eval()\n",
        "    out, accs = model(data.x, data.edge_index), []\n",
        "    for _, mask in data('train_mask', 'val_mask', 'test_mask'):\n",
        "        acc = float((out[mask].argmax(-1) == data.y[mask]).sum() / mask.sum())\n",
        "        accs.append(acc)\n",
        "    return accs\n",
        "\n",
        "\n",
        "test_accuracies = []\n",
        "train_accuracies = []\n",
        "for i in range(1, 21):\n",
        "  device = torch.device('cuda' if torch.cuda.is_available() else 'cpu')\n",
        "  model = Net(dataset.num_features, dataset.num_classes, i).to(device)\n",
        "  data = data.to(device)\n",
        "  optimizer = torch.optim.Adam(model.parameters(), lr=0.005, weight_decay=0.0005)\n",
        "  for epoch in range(1, 201):\n",
        "    train(data)\n",
        "    train_acc, val_acc, test_acc = test(data)\n",
        "    #print(f'Epoch: {epoch:03d}, Train: {train_acc:.4f}, Val: {val_acc:.4f}, 'f'Test: {test_acc:.4f}')\n",
        "    if epoch == 200:\n",
        "      test_accuracies.append(test_acc)\n",
        "      train_accuracies.append(train_acc)\n",
        "plt.plot(range(1,21), test_accuracies, 'r--', range(1,21), train_accuracies, 'g^')\n",
        "plt.xlabel('Number of Heads')\n",
        "plt.ylabel('Accuracy')\n",
        "plt.legend(['test accuracy', 'train accuracy'])\n",
        "plt.show()"
      ],
      "metadata": {
        "colab": {
          "base_uri": "https://localhost:8080/",
          "height": 279
        },
        "id": "e_WMAgOL5Snd",
        "outputId": "e866c582-ecdf-4924-e37a-844bad7ad6ea"
      },
      "execution_count": 11,
      "outputs": [
        {
          "output_type": "display_data",
          "data": {
            "image/png": "[encoded data removed]",
            "text/plain": [
              "<Figure size 432x288 with 1 Axes>"
            ]
          },
          "metadata": {
            "needs_background": "light"
          }
        }
      ]
    },
    {
      "cell_type": "code",
      "source": [
        "#@title Pubmed Dataset\n",
        "dataset = 'Pubmed'\n",
        "dataset = Planetoid(root='/tmp/Pubmed', name = dataset, transform=T.NormalizeFeatures())\n",
        "data = dataset[0]"
      ],
      "metadata": {
        "id": "pTr1v-W3-nr8"
      },
      "execution_count": 5,
      "outputs": []
    },
    {
      "cell_type": "code",
      "source": [
        "class Net(torch.nn.Module):\n",
        "    def __init__(self, in_channels, out_channels, headsIn):\n",
        "        super().__init__()\n",
        "\n",
        "        self.conv1 = GATConv(in_channels, 8, heads=headsIn, dropout=0.6)\n",
        "        self.conv2 = GATConv(headsIn * 8, out_channels, heads=8, concat=False,\n",
        "                             dropout=0.6)\n",
        "\n",
        "    def forward(self, x, edge_index):\n",
        "        x = F.dropout(x, p=0.6, training=self.training)\n",
        "        x = F.elu(self.conv1(x, edge_index))\n",
        "        x = F.dropout(x, p=0.6, training=self.training)\n",
        "        x = self.conv2(x, edge_index)\n",
        "        return F.log_softmax(x, dim=-1)\n",
        "\n",
        "\n",
        "\n",
        "\n",
        "def train(data):\n",
        "    model.train()\n",
        "    optimizer.zero_grad()\n",
        "    out = model(data.x, data.edge_index)\n",
        "    loss = F.nll_loss(out[data.train_mask], data.y[data.train_mask])\n",
        "    loss.backward()\n",
        "    optimizer.step()\n",
        "\n",
        "\n",
        "@torch.no_grad()\n",
        "def test(data):\n",
        "    model.eval()\n",
        "    out, accs = model(data.x, data.edge_index), []\n",
        "    for _, mask in data('train_mask', 'val_mask', 'test_mask'):\n",
        "        acc = float((out[mask].argmax(-1) == data.y[mask]).sum() / mask.sum())\n",
        "        accs.append(acc)\n",
        "    return accs\n",
        "\n",
        "\n",
        "test_accuracies = []\n",
        "train_accuracies = []\n",
        "for i in range(1, 21):\n",
        "  device = torch.device('cuda' if torch.cuda.is_available() else 'cpu')\n",
        "  model = Net(dataset.num_features, dataset.num_classes, i).to(device)\n",
        "  data = data.to(device)\n",
        "  optimizer = torch.optim.Adam(model.parameters(), lr=0.005, weight_decay=0.001)\n",
        "  for epoch in range(1, 201):\n",
        "    train(data)\n",
        "    train_acc, val_acc, test_acc = test(data)\n",
        "    #print(f'Epoch: {epoch:03d}, Train: {train_acc:.4f}, Val: {val_acc:.4f}, 'f'Test: {test_acc:.4f}')\n",
        "    if epoch == 200:\n",
        "      test_accuracies.append(test_acc)\n",
        "      train_accuracies.append(train_acc)\n",
        "plt.plot(range(1,21), test_accuracies, 'r--', range(1,21), train_accuracies, 'g^')\n",
        "plt.xlabel('Number of Heads')\n",
        "plt.ylabel('Accuracy')\n",
        "plt.legend(['test accuracy', 'train accuracy'])\n",
        "plt.show()"
      ],
      "metadata": {
        "colab": {
          "base_uri": "https://localhost:8080/",
          "height": 279
        },
        "id": "0MvEU_2N-qJn",
        "outputId": "b2bf9bf5-a741-420c-899d-53e2c9778a2e"
      },
      "execution_count": 6,
      "outputs": [
        {
          "output_type": "display_data",
          "data": {
            "image/png": "[encoded data removed]",
            "text/plain": [
              "<Figure size 432x288 with 1 Axes>"
            ]
          },
          "metadata": {
            "needs_background": "light"
          }
        }
      ]
    }
  ]
}