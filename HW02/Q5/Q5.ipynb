{
  "cells": [
    {
      "cell_type": "markdown",
      "metadata": {
        "id": "gtgwn6jGeFp3"
      },
      "source": [
        "# Question 5"
      ]
    },
    {
      "cell_type": "code",
      "execution_count": null,
      "metadata": {
        "colab": {
          "base_uri": "https://localhost:8080/"
        },
        "id": "HC-pFdxOwLsA",
        "outputId": "be7d5e5a-04ec-4407-a1d0-8943feb5f452"
      },
      "outputs": [
        {
          "output_type": "stream",
          "name": "stdout",
          "text": [
            "Requirement already satisfied: python-igraph in /usr/local/lib/python3.7/dist-packages (0.9.8)\n",
            "Requirement already satisfied: igraph==0.9.8 in /usr/local/lib/python3.7/dist-packages (from python-igraph) (0.9.8)\n",
            "Requirement already satisfied: texttable>=1.6.2 in /usr/local/lib/python3.7/dist-packages (from igraph==0.9.8->python-igraph) (1.6.4)\n"
          ]
        }
      ],
      "source": [
        "!pip install python-igraph"
      ]
    },
    {
      "cell_type": "code",
      "execution_count": null,
      "metadata": {
        "id": "sBu6hw14jyFE"
      },
      "outputs": [],
      "source": [
        "from math import *\n",
        "import sys\n",
        "import numpy as np\n",
        "import os\n",
        "import glob\n",
        "import random\n",
        "from random import shuffle\n",
        "from random import seed\n",
        "import matplotlib.pyplot as plt\n",
        "import time\n",
        "import datetime\n",
        "import collections\n",
        "import networkx as nx\n",
        "from igraph import *"
      ]
    },
    {
      "cell_type": "code",
      "execution_count": null,
      "metadata": {
        "id": "u7SeH8ZtkSXA"
      },
      "outputs": [],
      "source": [
        "k = 5"
      ]
    },
    {
      "cell_type": "code",
      "execution_count": null,
      "metadata": {
        "id": "6P8ttvmHkjdb"
      },
      "outputs": [],
      "source": [
        "import gzip\n",
        "import shutil\n",
        "with gzip.open('facebook_combined.txt.gz', 'rb') as f_in:\n",
        "    with open('facebook_combined.txt', 'wb') as f_out:\n",
        "        shutil.copyfileobj(f_in, f_out)"
      ]
    },
    {
      "cell_type": "code",
      "execution_count": null,
      "metadata": {
        "id": "ZTjl2HH1kZNY"
      },
      "outputs": [],
      "source": [
        "data_file = open('facebook_combined.txt')\n",
        "edge_list = map(lambda x:tuple(map(int,x.split())),data_file.read().split(\"\\n\")[:-1])\n",
        "data_file.close()"
      ]
    },
    {
      "cell_type": "code",
      "execution_count": null,
      "metadata": {
        "id": "PWU6zF6Mkuoj"
      },
      "outputs": [],
      "source": [
        "def get_sim_product(sim, shortest_path):\n",
        "\tprod = 1\n",
        "\tfor i in range(len(shortest_path) - 1):\n",
        "\t\tprod *= sim[shortest_path[i]][shortest_path[i+1]]\n",
        "\treturn round(prod,3)"
      ]
    },
    {
      "cell_type": "code",
      "execution_count": null,
      "metadata": {
        "id": "nGQEaOYEmqEU"
      },
      "outputs": [],
      "source": [
        "# Filter out, Sort and Get top-K predictions\n",
        "def get_top_k_recommendations(graph,sim,i,k):\n",
        "\treturn  sorted(filter(lambda x: i!=x and graph[i,x] != 1,range(len(sim[i]))) , key=lambda x: sim[i][x],reverse=True)[0:k]\n",
        "\n",
        "# Convert edge_list into a set of constituent edges\n",
        "def get_vertices_set(edge_list):\n",
        "\tres = set()\n",
        "\tfor x,y in edge_list:\n",
        "\t\tres.add(x)\n",
        "\t\tres.add(y)\n",
        "\treturn res"
      ]
    },
    {
      "cell_type": "code",
      "execution_count": null,
      "metadata": {
        "id": "nEdylduHXXXZ"
      },
      "outputs": [],
      "source": [
        "def split_data(edge_list):\n",
        "  random.seed(350)\n",
        "  edge_list = list(edge_list)\n",
        "  indexes = range(len(edge_list))\n",
        "  test_indexes = set (random.sample(indexes, int(len(indexes)/2)))\n",
        "  train_indexes = set(indexes).difference(test_indexes)\n",
        "  test_list = [edge_list[i] for i in test_indexes]\n",
        "  train_list = [edge_list[i] for i in train_indexes]\n",
        "  return train_list, test_list\n"
      ]
    },
    {
      "cell_type": "code",
      "execution_count": null,
      "metadata": {
        "id": "tA8xN8wCmx5U"
      },
      "outputs": [],
      "source": [
        "def print_precision_and_recall(sim,train_graph,test_graph,test_vertices_set,train_vertices_set):\n",
        "\tprecision = recall = c = 0\n",
        "\tfor i in test_vertices_set:\n",
        "\t\tif i in train_vertices_set:\n",
        "\t\t\tactual_friends_of_i = set(test_graph.neighbors(i))\n",
        "\n",
        "\n",
        "\t\t\tif len(actual_friends_of_i) < k:\n",
        "\t\t\t\tk2 = len(actual_friends_of_i)\n",
        "\t\t\telse:\n",
        "\t\t\t\tk2 = k\n",
        "\n",
        "\t\t\ttop_k = set(get_top_k_recommendations(train_graph,sim,i,k2))\n",
        "\n",
        "\t\t\tprecision += len(top_k.intersection(actual_friends_of_i))/float(k2)\n",
        "\t\t\trecall += len(top_k.intersection(actual_friends_of_i))/float(len(actual_friends_of_i))\n",
        "\t\t\tc += 1\n",
        "\tprint (\"Precision is : \" + str( (precision/c)))\n",
        "\tprint (\"Recall is : \" + str((recall/c)))"
      ]
    },
    {
      "cell_type": "code",
      "execution_count": null,
      "metadata": {
        "id": "aZNcl3RLnH24",
        "outputId": "a5de1bc5-57e0-4ba1-fc05-6766e6a89d15",
        "colab": {
          "base_uri": "https://localhost:8080/",
          "height": 130
        }
      },
      "outputs": [
        {
          "output_type": "error",
          "ename": "SyntaxError",
          "evalue": "ignored",
          "traceback": [
            "\u001b[0;36m  File \u001b[0;32m\"<ipython-input-109-d71d2f2777d7>\"\u001b[0;36m, line \u001b[0;32m13\u001b[0m\n\u001b[0;31m    else\u001b[0m\n\u001b[0m        ^\u001b[0m\n\u001b[0;31mSyntaxError\u001b[0m\u001b[0;31m:\u001b[0m invalid syntax\n"
          ]
        }
      ],
      "source": [
        "from scipy.sparse.csgraph import shortest_path\n",
        "\n",
        "def similarity(graph, i, j, method):\n",
        "\tif method == \"common_neighbors\":\n",
        "\t\treturn len(set(graph.neighbors(i)).intersection(set(graph.neighbors(j))))\n",
        "\telif method == \"jaccard\":\n",
        "\t\treturn len(set(graph.neighbors(i)).intersection(set(graph.neighbors(j))))/float(len(set(graph.neighbors(i)).union(set(graph.neighbors(j)))))\n",
        "\telif method == \"adamic_adar\":\n",
        "\t\treturn sum([1.0/math.log(graph.degree(v)) for v in set(graph.neighbors(i)).intersection(set(graph.neighbors(j)))])\n",
        "\telif method == \"shortest_path\":\n",
        "\t\tadj = graph.get_adjacency_sparse()\n",
        "\t\treturn shortest_path(adj)[i,j]\n",
        "\telse:\n",
        "\t\traise Exception('Method not found!')"
      ]
    },
    {
      "cell_type": "code",
      "execution_count": null,
      "metadata": {
        "id": "x93B7Zva7P7L"
      },
      "outputs": [],
      "source": [
        "def local_methods(edge_list, method):\n",
        "  train_list, test_list = split_data(edge_list)\n",
        "  train_graph = Graph(train_list)\n",
        "  test_graph = Graph(test_list)\n",
        "  train_n =  train_graph.vcount()\n",
        "  train_vertices_set = get_vertices_set(train_list)\n",
        "  test_vertices_set = get_vertices_set(test_list)\n",
        "\n",
        "  sim = [[0 for i in range(train_n)] for j in range(train_n)]\n",
        "  for i in range(train_n):\n",
        "    for j in range(train_n):\n",
        "      if i!=j and i in train_vertices_set and j in train_vertices_set:\n",
        "        sim[i][j] = similarity(train_graph,i,j,method)\n",
        "  print_precision_and_recall(sim,train_graph,test_graph,test_vertices_set,train_vertices_set)"
      ]
    },
    {
      "cell_type": "code",
      "execution_count": null,
      "metadata": {
        "colab": {
          "base_uri": "https://localhost:8080/"
        },
        "id": "aQ9GKaHDpK0j",
        "outputId": "683bda7c-c222-41b5-cafe-fec080551bcc"
      },
      "outputs": [
        {
          "output_type": "stream",
          "name": "stdout",
          "text": [
            "common_neighbors: \n",
            "Precision is : 0.566554170993422\n",
            "Recall is : 0.2014233086674809\n"
          ]
        }
      ],
      "source": [
        "print(\"common_neighbors: \")\n",
        "data_file = open('facebook_combined.txt')\n",
        "edge_list = map(lambda x:tuple(map(int,x.split())),data_file.read().split(\"\\n\")[:-1])\n",
        "data_file.close()\n",
        "local_methods(edge_list, method=\"common_neighbors\")"
      ]
    },
    {
      "cell_type": "code",
      "execution_count": null,
      "metadata": {
        "colab": {
          "base_uri": "https://localhost:8080/"
        },
        "id": "-BUjTighksI1",
        "outputId": "385ffd86-f968-4876-a336-c36c2fe29fda"
      },
      "outputs": [
        {
          "name": "stdout",
          "output_type": "stream",
          "text": [
            "jaccard: \n",
            "Precision is : 0.4917358947732754\n",
            "Recall is : 0.16007218514369487\n"
          ]
        }
      ],
      "source": [
        "print(\"jaccard: \")\n",
        "data_file = open('facebook_combined.txt')\n",
        "edge_list = map(lambda x:tuple(map(int,x.split())),data_file.read().split(\"\\n\")[:-1])\n",
        "data_file.close()\n",
        "local_methods(edge_list, method =\"jaccard\")"
      ]
    },
    {
      "cell_type": "code",
      "execution_count": null,
      "metadata": {
        "colab": {
          "base_uri": "https://localhost:8080/"
        },
        "id": "4MlfB5akmFdD",
        "outputId": "1c57a2ff-a605-4992-a7b3-59f8b22e1347"
      },
      "outputs": [
        {
          "output_type": "stream",
          "name": "stdout",
          "text": [
            "adamic_adar: \n",
            "Precision is : 0.592640186915887\n",
            "Recall is : 0.217246398361926\n"
          ]
        }
      ],
      "source": [
        "print(\"adamic_adar: \")\n",
        "data_file = open('facebook_combined.txt')\n",
        "edge_list = map(lambda x:tuple(map(int,x.split())),data_file.read().split(\"\\n\")[:-1])\n",
        "data_file.close()\n",
        "local_methods(edge_list, method =\"adamic_adar\")"
      ]
    },
    {
      "cell_type": "code",
      "source": [
        "print(\"shortest_path: \")\n",
        "data_file = open('facebook_combined.txt')\n",
        "edge_list = map(lambda x:tuple(map(int,x.split())),data_file.read().split(\"\\n\")[:-1])\n",
        "data_file.close()\n",
        "local_methods(edge_list, method=\"shortest_path\")"
      ],
      "metadata": {
        "id": "84rMsUwQSiGG",
        "outputId": "4fd353ac-face-4b42-f8b5-99e527ad116d",
        "colab": {
          "base_uri": "https://localhost:8080/"
        }
      },
      "execution_count": null,
      "outputs": [
        {
          "metadata": {
            "tags": null
          },
          "name": "stdout",
          "output_type": "stream",
          "text": [
            "shortest_path: \n"
          ]
        }
      ]
    }
  ],
  "metadata": {
    "colab": {
      "collapsed_sections": [],
      "name": "Q5.ipynb",
      "provenance": []
    },
    "kernelspec": {
      "display_name": "Python 3",
      "name": "python3"
    },
    "language_info": {
      "name": "python"
    }
  },
  "nbformat": 4,
  "nbformat_minor": 0
}