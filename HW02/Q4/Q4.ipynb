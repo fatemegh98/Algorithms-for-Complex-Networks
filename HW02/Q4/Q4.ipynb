{
  "nbformat": 4,
  "nbformat_minor": 0,
  "metadata": {
    "colab": {
      "name": "Q4.ipynb",
      "provenance": []
    },
    "kernelspec": {
      "name": "python3",
      "display_name": "Python 3"
    },
    "language_info": {
      "name": "python"
    }
  },
  "cells": [
    {
      "cell_type": "code",
      "source": [
        "import gzip\n",
        "import shutil\n",
        "with gzip.open('wiki-Vote.txt.gz', 'rb') as f_in:\n",
        "    with open('wiki-Vote.txt', 'wb') as f_out:\n",
        "        shutil.copyfileobj(f_in, f_out)"
      ],
      "metadata": {
        "id": "L6Pe6rqxl5e_"
      },
      "execution_count": 3,
      "outputs": []
    },
    {
      "cell_type": "code",
      "source": [
        "lines = []\n",
        "with open(r\"wiki-Vote.txt\", 'r') as fp:\n",
        "    lines = fp.readlines()\n",
        "\n",
        "with open(r\"wiki-Vote.txt\", 'w') as fp:\n",
        "    for number, line in enumerate(lines):\n",
        "        if number not in [0,1,2,3]:\n",
        "            fp.write(line)"
      ],
      "metadata": {
        "id": "iZHnFfIxl6fL"
      },
      "execution_count": 4,
      "outputs": []
    },
    {
      "cell_type": "code",
      "execution_count": 5,
      "metadata": {
        "colab": {
          "base_uri": "https://localhost:8080/"
        },
        "id": "hk7-hi4ZuD5A",
        "outputId": "9049fc85-2863-4c95-dd24-850d552dde88"
      },
      "outputs": [
        {
          "output_type": "stream",
          "name": "stdout",
          "text": [
            "Collecting pyspark\n",
            "  Downloading pyspark-3.2.0.tar.gz (281.3 MB)\n",
            "\u001b[K     |████████████████████████████████| 281.3 MB 38 kB/s \n",
            "\u001b[?25hCollecting py4j==0.10.9.2\n",
            "  Downloading py4j-0.10.9.2-py2.py3-none-any.whl (198 kB)\n",
            "\u001b[K     |████████████████████████████████| 198 kB 44.6 MB/s \n",
            "\u001b[?25hBuilding wheels for collected packages: pyspark\n",
            "  Building wheel for pyspark (setup.py) ... \u001b[?25l\u001b[?25hdone\n",
            "  Created wheel for pyspark: filename=pyspark-3.2.0-py2.py3-none-any.whl size=281805912 sha256=ddd4b5e06d456aadb1a7f412fcb7305913f6212aa346098993255ff1304d9488\n",
            "  Stored in directory: /root/.cache/pip/wheels/0b/de/d2/9be5d59d7331c6c2a7c1b6d1a4f463ce107332b1ecd4e80718\n",
            "Successfully built pyspark\n",
            "Installing collected packages: py4j, pyspark\n",
            "Successfully installed py4j-0.10.9.2 pyspark-3.2.0\n"
          ]
        }
      ],
      "source": [
        "!pip install pyspark"
      ]
    },
    {
      "cell_type": "code",
      "source": [
        "from __future__ import print_function\n",
        "\n",
        "import re\n",
        "import sys\n",
        "from operator import add\n",
        "\n",
        "from pyspark.sql import SparkSession\n",
        "import os\n",
        "\n",
        "def computeContribs(rank, urls):\n",
        "    \"\"\"Calculates URL contributions to the rank of other URLs.\"\"\"\n",
        "    for url in urls:\n",
        "        yield (url, rank)\n",
        "\n",
        "\n",
        "def parseNeighbors(urls):\n",
        "    \"\"\"Parses a urls pair string into urls pair.\"\"\"\n",
        "    parts = re.split(r'\\s+', urls)\n",
        "    return parts[0], parts[1]\n",
        "\n",
        "def parseNeighbors_trans(urls):\n",
        "    \"\"\"Parses a urls pair string into urls pair.\"\"\"\n",
        "    parts = re.split(r'\\s+', urls)\n",
        "    return parts[1], parts[0]\n",
        "\n",
        "def node_cmp(x):\n",
        "  return int(x[0])\n",
        "\n",
        "\n",
        "input_file = \"wiki-Vote.txt\"\n",
        "iterations = 5\n",
        "spark = SparkSession\\\n",
        "        .builder\\\n",
        "        .appName(\"PythonPageRank\")\\\n",
        "        .getOrCreate()\n",
        "\n",
        "lines = spark.read.text(input_file).rdd.map(lambda r: r[0])\n",
        "all_urls = lines.map(lambda urls: parseNeighbors(urls)).distinct()\n",
        "links = all_urls.groupByKey().cache()\n",
        "links_transpose = lines.map(lambda urls: parseNeighbors_trans(urls)).distinct().groupByKey().cache()\n",
        "result_links = links.collect()\n",
        "result_transition = links_transpose.collect()\n",
        "hubs = links.map(lambda url_neighbors: (url_neighbors[0], 1.0))"
      ],
      "metadata": {
        "id": "z6Vgf6s9uOTU"
      },
      "execution_count": 6,
      "outputs": []
    },
    {
      "cell_type": "code",
      "source": [
        "authority = None\n",
        "    # Calculates and updates URL ranks continuously using PageRank algorithm.\n",
        "for iteration in range(iterations):\n",
        "# Calculates URL contributions to the rank of other URLs.\n",
        "# calculate authority\n",
        "  authority = links.join(hubs).flatMap(\n",
        "    lambda x: computeContribs(x[1][1], x[1][0])).reduceByKey(add)\n",
        "\n",
        "  max_value_a = authority.map(lambda x: x[1]).max()\n",
        "  authority = authority.mapValues(lambda x: x / max_value_a)\n",
        "\n",
        "  hubs = links_transpose.join(authority).flatMap(\n",
        "    lambda x: computeContribs(x[1][1], x[1][0])).reduceByKey(add)  \n",
        "  max_value_h = hubs.map(lambda x: x[1]).max()\n",
        "  hubs = hubs.mapValues(lambda x: x / max_value_h)\n"
      ],
      "metadata": {
        "id": "hbNF--lyuQe9"
      },
      "execution_count": 7,
      "outputs": []
    },
    {
      "cell_type": "code",
      "source": [
        "result_hubs = sorted(hubs.collect(), key=node_cmp)"
      ],
      "metadata": {
        "id": "SKaGPKvYuSUq"
      },
      "execution_count": 8,
      "outputs": []
    },
    {
      "cell_type": "code",
      "source": [
        "text_file = open(\"hub.txt\", \"w\")\n",
        "for _ in result_hubs:\n",
        "  text_file.write(str(_[0]) + \",%.5f\" % _[1] + \"\\n\")\n",
        "text_file.close()\n",
        "\n",
        "result_authority = sorted(authority.collect(), key = node_cmp)\n",
        "text_file = open(\"authority.txt\", \"w\")\n",
        "for _ in result_authority:\n",
        "  text_file.write(str( _[0]) + \",%.5f\" % _[1] + \"\\n\")\n",
        "text_file.close()\n",
        "\n",
        "spark.stop()"
      ],
      "metadata": {
        "id": "BPw6zMWbuUAX"
      },
      "execution_count": 9,
      "outputs": []
    },
    {
      "cell_type": "code",
      "source": [
        "def myFunc(e):\n",
        "  return e[1]\n",
        "result_hubs.sort(key=myFunc, reverse=True)"
      ],
      "metadata": {
        "id": "iIJvoH-8uV8A"
      },
      "execution_count": 17,
      "outputs": []
    },
    {
      "cell_type": "code",
      "source": [
        "result_hubs[:10]"
      ],
      "metadata": {
        "colab": {
          "base_uri": "https://localhost:8080/"
        },
        "id": "Ocy3YGW8uX4O",
        "outputId": "b9f34099-23f6-4ebe-a588-336f1f5d510c"
      },
      "execution_count": 18,
      "outputs": [
        {
          "output_type": "execute_result",
          "data": {
            "text/plain": [
              "[('2565', 1.0),\n",
              " ('766', 0.9539738367956294),\n",
              " ('2688', 0.8109012307736835),\n",
              " ('457', 0.8083998263718667),\n",
              " ('1166', 0.7572151832677456),\n",
              " ('1549', 0.7208933608812452),\n",
              " ('11', 0.6205408521474032),\n",
              " ('1151', 0.5761852013414268),\n",
              " ('1374', 0.5628874083453793),\n",
              " ('1133', 0.493479413970747)]"
            ]
          },
          "metadata": {},
          "execution_count": 18
        }
      ]
    },
    {
      "cell_type": "code",
      "source": [
        "result_authority.sort(key=myFunc, reverse=True)"
      ],
      "metadata": {
        "id": "oDlvzL97uZu9"
      },
      "execution_count": 20,
      "outputs": []
    },
    {
      "cell_type": "code",
      "source": [
        "result_authority[:10]"
      ],
      "metadata": {
        "colab": {
          "base_uri": "https://localhost:8080/"
        },
        "id": "7XrA-0Ayub9t",
        "outputId": "59eb8873-d8b8-4e5c-d8a7-1675d742607c"
      },
      "execution_count": 21,
      "outputs": [
        {
          "output_type": "execute_result",
          "data": {
            "text/plain": [
              "[('2398', 1.0),\n",
              " ('4037', 0.9977207958136023),\n",
              " ('3352', 0.9024990712420015),\n",
              " ('1549', 0.8933904532987473),\n",
              " ('762', 0.8752334923138549),\n",
              " ('1297', 0.8736172836899779),\n",
              " ('3089', 0.8734033014392443),\n",
              " ('2565', 0.8620015229598714),\n",
              " ('15', 0.8536687098722228),\n",
              " ('2625', 0.8530062804275313)]"
            ]
          },
          "metadata": {},
          "execution_count": 21
        }
      ]
    }
  ]
}